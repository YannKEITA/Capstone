{
 "cells": [
  {
   "cell_type": "code",
   "execution_count": 3,
   "metadata": {},
   "outputs": [
    {
     "name": "stdout",
     "output_type": "stream",
     "text": [
      "<class 'pandas.core.frame.DataFrame'>\n",
      "RangeIndex: 510 entries, 0 to 509\n",
      "Data columns (total 10 columns):\n",
      " #   Column        Non-Null Count  Dtype  \n",
      "---  ------        --------------  -----  \n",
      " 0   Ann           510 non-null    int64  \n",
      " 1   Loc           510 non-null    object \n",
      " 2   Dur_sej_moy   504 non-null    object \n",
      " 3   Dur_sej_max   504 non-null    float64\n",
      " 4   Dur_sej_med   504 non-null    object \n",
      " 5   Dur_sej_min   504 non-null    float64\n",
      " 6   Pat_chir_nbr  504 non-null    float64\n",
      " 7   Pat_chir_pct  504 non-null    object \n",
      " 8   Hom_chir_nbr  504 non-null    object \n",
      " 9   Fem_chir_nbr  504 non-null    object \n",
      "dtypes: float64(3), int64(1), object(6)\n",
      "memory usage: 40.0+ KB\n"
     ]
    }
   ],
   "source": [
    "import pandas as pd\n",
    "import csv\n",
    "df = pd.read_csv(\"/Users/yannkeita/Desktop/CapstoneProject/Activite_chirurgicale_en_cancerologie_par_localisation_tumorale copy.csv\", sep=';', encoding='latin-1', quoting=csv.QUOTE_ALL)\n",
    "\n",
    "df.info()"
   ]
  },
  {
   "cell_type": "code",
   "execution_count": 4,
   "metadata": {},
   "outputs": [
    {
     "data": {
      "text/html": [
       "<div>\n",
       "<style scoped>\n",
       "    .dataframe tbody tr th:only-of-type {\n",
       "        vertical-align: middle;\n",
       "    }\n",
       "\n",
       "    .dataframe tbody tr th {\n",
       "        vertical-align: top;\n",
       "    }\n",
       "\n",
       "    .dataframe thead th {\n",
       "        text-align: right;\n",
       "    }\n",
       "</style>\n",
       "<table border=\"1\" class=\"dataframe\">\n",
       "  <thead>\n",
       "    <tr style=\"text-align: right;\">\n",
       "      <th></th>\n",
       "      <th>Ann</th>\n",
       "      <th>Loc</th>\n",
       "      <th>Dur_sej_moy</th>\n",
       "      <th>Dur_sej_max</th>\n",
       "      <th>Dur_sej_med</th>\n",
       "      <th>Dur_sej_min</th>\n",
       "      <th>Pat_chir_nbr</th>\n",
       "      <th>Pat_chir_pct</th>\n",
       "      <th>Hom_chir_nbr</th>\n",
       "      <th>Fem_chir_nbr</th>\n",
       "    </tr>\n",
       "  </thead>\n",
       "  <tbody>\n",
       "    <tr>\n",
       "      <th>0</th>\n",
       "      <td>2011</td>\n",
       "      <td>Anus-Canal anal</td>\n",
       "      <td>10.7</td>\n",
       "      <td>239.0</td>\n",
       "      <td>4.0</td>\n",
       "      <td>0.0</td>\n",
       "      <td>958.0</td>\n",
       "      <td>.</td>\n",
       "      <td>375</td>\n",
       "      <td>583</td>\n",
       "    </tr>\n",
       "    <tr>\n",
       "      <th>1</th>\n",
       "      <td>2011</td>\n",
       "      <td>APPAREIL DIGESTIF</td>\n",
       "      <td>16.0</td>\n",
       "      <td>323.0</td>\n",
       "      <td>12.0</td>\n",
       "      <td>0.0</td>\n",
       "      <td>60422.0</td>\n",
       "      <td>16.0</td>\n",
       "      <td>33744</td>\n",
       "      <td>26678</td>\n",
       "    </tr>\n",
       "    <tr>\n",
       "      <th>2</th>\n",
       "      <td>2011</td>\n",
       "      <td>Appareil digestif sans prï¿½cision</td>\n",
       "      <td>10.6</td>\n",
       "      <td>236.0</td>\n",
       "      <td>8.0</td>\n",
       "      <td>0.0</td>\n",
       "      <td>1798.0</td>\n",
       "      <td>.</td>\n",
       "      <td>975</td>\n",
       "      <td>823</td>\n",
       "    </tr>\n",
       "    <tr>\n",
       "      <th>3</th>\n",
       "      <td>2011</td>\n",
       "      <td>APPAREIL MANQUANT</td>\n",
       "      <td>6.3</td>\n",
       "      <td>13.0</td>\n",
       "      <td>7.0</td>\n",
       "      <td>2.0</td>\n",
       "      <td>4.0</td>\n",
       "      <td>0.0</td>\n",
       "      <td>4</td>\n",
       "      <td>.</td>\n",
       "    </tr>\n",
       "    <tr>\n",
       "      <th>4</th>\n",
       "      <td>2011</td>\n",
       "      <td>APPAREIL NON ATTRIBUABLE</td>\n",
       "      <td>9.8</td>\n",
       "      <td>256.0</td>\n",
       "      <td>6.0</td>\n",
       "      <td>0.0</td>\n",
       "      <td>4010.0</td>\n",
       "      <td>1.1</td>\n",
       "      <td>2167</td>\n",
       "      <td>1843</td>\n",
       "    </tr>\n",
       "  </tbody>\n",
       "</table>\n",
       "</div>"
      ],
      "text/plain": [
       "    Ann                                 Loc Dur_sej_moy  Dur_sej_max  \\\n",
       "0  2011                     Anus-Canal anal        10.7        239.0   \n",
       "1  2011                   APPAREIL DIGESTIF        16.0        323.0   \n",
       "2  2011  Appareil digestif sans prï¿½cision        10.6        236.0   \n",
       "3  2011                   APPAREIL MANQUANT         6.3         13.0   \n",
       "4  2011            APPAREIL NON ATTRIBUABLE         9.8        256.0   \n",
       "\n",
       "  Dur_sej_med  Dur_sej_min  Pat_chir_nbr Pat_chir_pct Hom_chir_nbr  \\\n",
       "0         4.0          0.0         958.0            .          375   \n",
       "1        12.0          0.0       60422.0         16.0        33744   \n",
       "2         8.0          0.0        1798.0            .          975   \n",
       "3         7.0          2.0           4.0          0.0            4   \n",
       "4         6.0          0.0        4010.0          1.1         2167   \n",
       "\n",
       "  Fem_chir_nbr  \n",
       "0          583  \n",
       "1        26678  \n",
       "2          823  \n",
       "3            .  \n",
       "4         1843  "
      ]
     },
     "execution_count": 4,
     "metadata": {},
     "output_type": "execute_result"
    }
   ],
   "source": [
    "df['Dur_sej_moy'] = df['Dur_sej_moy'].str.replace(',', '.')\n",
    "df['Dur_sej_med'] = df['Dur_sej_med'].str.replace(',', '.')\n",
    "df['Pat_chir_pct'] = df['Pat_chir_pct'].str.replace(',', '.')\n",
    "df['Hom_chir_nbr'] = df['Hom_chir_nbr'].str.replace(',', '.')\n",
    "df['Fem_chir_nbr'] = df['Fem_chir_nbr'].str.replace(',', '.')\n",
    "df.head()"
   ]
  },
  {
   "cell_type": "code",
   "execution_count": 5,
   "metadata": {},
   "outputs": [
    {
     "name": "stdout",
     "output_type": "stream",
     "text": [
      "<class 'pandas.core.frame.DataFrame'>\n",
      "RangeIndex: 510 entries, 0 to 509\n",
      "Data columns (total 10 columns):\n",
      " #   Column        Non-Null Count  Dtype  \n",
      "---  ------        --------------  -----  \n",
      " 0   Ann           510 non-null    int64  \n",
      " 1   Loc           510 non-null    object \n",
      " 2   Dur_sej_moy   504 non-null    float64\n",
      " 3   Dur_sej_max   504 non-null    float64\n",
      " 4   Dur_sej_med   504 non-null    float64\n",
      " 5   Dur_sej_min   504 non-null    float64\n",
      " 6   Pat_chir_nbr  504 non-null    float64\n",
      " 7   Pat_chir_pct  114 non-null    float64\n",
      " 8   Hom_chir_nbr  474 non-null    float64\n",
      " 9   Fem_chir_nbr  479 non-null    float64\n",
      "dtypes: float64(8), int64(1), object(1)\n",
      "memory usage: 40.0+ KB\n"
     ]
    }
   ],
   "source": [
    "df['Dur_sej_moy'] = pd.to_numeric(df['Dur_sej_moy'], errors='coerce')\n",
    "df['Dur_sej_med'] = pd.to_numeric(df['Dur_sej_med'], errors='coerce')\n",
    "df['Pat_chir_pct'] = pd.to_numeric(df['Pat_chir_pct'], errors='coerce')\n",
    "df['Hom_chir_nbr'] = pd.to_numeric(df['Hom_chir_nbr'], errors='coerce')\n",
    "df['Fem_chir_nbr'] = pd.to_numeric(df['Fem_chir_nbr'], errors='coerce')\n",
    "\n",
    "df.info()"
   ]
  },
  {
   "cell_type": "code",
   "execution_count": 6,
   "metadata": {},
   "outputs": [
    {
     "data": {
      "text/plain": [
       "Ann               0\n",
       "Loc               0\n",
       "Dur_sej_moy       6\n",
       "Dur_sej_max       6\n",
       "Dur_sej_med       6\n",
       "Dur_sej_min       6\n",
       "Pat_chir_nbr      6\n",
       "Pat_chir_pct    396\n",
       "Hom_chir_nbr     36\n",
       "Fem_chir_nbr     31\n",
       "dtype: int64"
      ]
     },
     "execution_count": 6,
     "metadata": {},
     "output_type": "execute_result"
    }
   ],
   "source": [
    "df.isnull().sum()"
   ]
  },
  {
   "cell_type": "code",
   "execution_count": null,
   "metadata": {},
   "outputs": [],
   "source": []
  },
  {
   "cell_type": "code",
   "execution_count": null,
   "metadata": {},
   "outputs": [],
   "source": []
  },
  {
   "cell_type": "code",
   "execution_count": null,
   "metadata": {},
   "outputs": [],
   "source": []
  }
 ],
 "metadata": {
  "kernelspec": {
   "display_name": "Python 3",
   "language": "python",
   "name": "python3"
  },
  "language_info": {
   "codemirror_mode": {
    "name": "ipython",
    "version": 3
   },
   "file_extension": ".py",
   "mimetype": "text/x-python",
   "name": "python",
   "nbconvert_exporter": "python",
   "pygments_lexer": "ipython3",
   "version": "3.12.6"
  }
 },
 "nbformat": 4,
 "nbformat_minor": 2
}
