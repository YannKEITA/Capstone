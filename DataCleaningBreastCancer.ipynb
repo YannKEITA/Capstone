{
 "cells": [
  {
   "cell_type": "code",
   "execution_count": 2,
   "metadata": {},
   "outputs": [
    {
     "data": {
      "text/html": [
       "<div>\n",
       "<style scoped>\n",
       "    .dataframe tbody tr th:only-of-type {\n",
       "        vertical-align: middle;\n",
       "    }\n",
       "\n",
       "    .dataframe tbody tr th {\n",
       "        vertical-align: top;\n",
       "    }\n",
       "\n",
       "    .dataframe thead th {\n",
       "        text-align: right;\n",
       "    }\n",
       "</style>\n",
       "<table border=\"1\" class=\"dataframe\">\n",
       "  <thead>\n",
       "    <tr style=\"text-align: right;\">\n",
       "      <th></th>\n",
       "      <th>id,\"diagnosis\",\"radius_mean\",\"texture_mean\",\"perimeter_mean\",\"area_mean\",\"smoothness_mean\",\"compactness_mean\",\"concavity_mean\",\"concave points_mean\",\"symmetry_mean\",\"fractal_dimension_mean\",\"radius_se\",\"texture_se\",\"perimeter_se\",\"area_se\",\"smoothness_se\",\"compactness_se\",\"concavity_se\",\"concave points_se\",\"symmetry_se\",\"fractal_dimension_se\",\"radius_worst\",\"texture_worst\",\"perimeter_worst\",\"area_worst\",\"smoothness_worst\",\"compactness_worst\",\"concavity_worst\",\"concave points_worst\",\"symmetry_worst\",\"fractal_dimension_worst\",</th>\n",
       "    </tr>\n",
       "  </thead>\n",
       "  <tbody>\n",
       "    <tr>\n",
       "      <th>0</th>\n",
       "      <td>842302,M,17.99,10.38,122.8,1001,0.1184,0.2776,...</td>\n",
       "    </tr>\n",
       "    <tr>\n",
       "      <th>1</th>\n",
       "      <td>842517,M,20.57,17.77,132.9,1326,0.08474,0.0786...</td>\n",
       "    </tr>\n",
       "    <tr>\n",
       "      <th>2</th>\n",
       "      <td>84300903,M,19.69,21.25,130,1203,0.1096,0.1599,...</td>\n",
       "    </tr>\n",
       "    <tr>\n",
       "      <th>3</th>\n",
       "      <td>84348301,M,11.42,20.38,77.58,386.1,0.1425,0.28...</td>\n",
       "    </tr>\n",
       "    <tr>\n",
       "      <th>4</th>\n",
       "      <td>84358402,M,20.29,14.34,135.1,1297,0.1003,0.132...</td>\n",
       "    </tr>\n",
       "  </tbody>\n",
       "</table>\n",
       "</div>"
      ],
      "text/plain": [
       "  id,\"diagnosis\",\"radius_mean\",\"texture_mean\",\"perimeter_mean\",\"area_mean\",\"smoothness_mean\",\"compactness_mean\",\"concavity_mean\",\"concave points_mean\",\"symmetry_mean\",\"fractal_dimension_mean\",\"radius_se\",\"texture_se\",\"perimeter_se\",\"area_se\",\"smoothness_se\",\"compactness_se\",\"concavity_se\",\"concave points_se\",\"symmetry_se\",\"fractal_dimension_se\",\"radius_worst\",\"texture_worst\",\"perimeter_worst\",\"area_worst\",\"smoothness_worst\",\"compactness_worst\",\"concavity_worst\",\"concave points_worst\",\"symmetry_worst\",\"fractal_dimension_worst\",\n",
       "0  842302,M,17.99,10.38,122.8,1001,0.1184,0.2776,...                                                                                                                                                                                                                                                                                                                                                                                                                                                                                                \n",
       "1  842517,M,20.57,17.77,132.9,1326,0.08474,0.0786...                                                                                                                                                                                                                                                                                                                                                                                                                                                                                                \n",
       "2  84300903,M,19.69,21.25,130,1203,0.1096,0.1599,...                                                                                                                                                                                                                                                                                                                                                                                                                                                                                                \n",
       "3  84348301,M,11.42,20.38,77.58,386.1,0.1425,0.28...                                                                                                                                                                                                                                                                                                                                                                                                                                                                                                \n",
       "4  84358402,M,20.29,14.34,135.1,1297,0.1003,0.132...                                                                                                                                                                                                                                                                                                                                                                                                                                                                                                "
      ]
     },
     "execution_count": 2,
     "metadata": {},
     "output_type": "execute_result"
    }
   ],
   "source": [
    "import pandas as pd \n",
    "import csv \n",
    "df = pd.read_csv(\"/Users/yannkeita/Desktop/CapstoneProject/BrestCancer.csv\", sep=';', encoding='latin-1', quoting=csv.QUOTE_ALL)\n",
    "df.head()"
   ]
  },
  {
   "cell_type": "code",
   "execution_count": 3,
   "metadata": {},
   "outputs": [
    {
     "name": "stdout",
     "output_type": "stream",
     "text": [
      "Index(['id,\"diagnosis\",\"radius_mean\",\"texture_mean\",\"perimeter_mean\",\"area_mean\",\"smoothness_mean\",\"compactness_mean\",\"concavity_mean\",\"concave points_mean\",\"symmetry_mean\",\"fractal_dimension_mean\",\"radius_se\",\"texture_se\",\"perimeter_se\",\"area_se\",\"smoothness_se\",\"compactness_se\",\"concavity_se\",\"concave points_se\",\"symmetry_se\",\"fractal_dimension_se\",\"radius_worst\",\"texture_worst\",\"perimeter_worst\",\"area_worst\",\"smoothness_worst\",\"compactness_worst\",\"concavity_worst\",\"concave points_worst\",\"symmetry_worst\",\"fractal_dimension_worst\",'], dtype='object')\n"
     ]
    }
   ],
   "source": [
    "print(df.columns)"
   ]
  },
  {
   "cell_type": "code",
   "execution_count": 3,
   "metadata": {},
   "outputs": [
    {
     "ename": "ModuleNotFoundError",
     "evalue": "No module named 'seaborn'",
     "output_type": "error",
     "traceback": [
      "\u001b[0;31m---------------------------------------------------------------------------\u001b[0m",
      "\u001b[0;31mModuleNotFoundError\u001b[0m                       Traceback (most recent call last)",
      "Cell \u001b[0;32mIn[3], line 2\u001b[0m\n\u001b[1;32m      1\u001b[0m \u001b[38;5;28;01mimport\u001b[39;00m \u001b[38;5;21;01mmatplotlib\u001b[39;00m\u001b[38;5;21;01m.\u001b[39;00m\u001b[38;5;21;01mpyplot\u001b[39;00m \u001b[38;5;28;01mas\u001b[39;00m \u001b[38;5;21;01mplt\u001b[39;00m\n\u001b[0;32m----> 2\u001b[0m \u001b[38;5;28;01mimport\u001b[39;00m \u001b[38;5;21;01mseaborn\u001b[39;00m \u001b[38;5;28;01mas\u001b[39;00m \u001b[38;5;21;01msns\u001b[39;00m\n\u001b[1;32m      3\u001b[0m \u001b[38;5;28mprint\u001b[39m(\u001b[38;5;124m\"\u001b[39m\u001b[38;5;124mSeaborn imported successfully!\u001b[39m\u001b[38;5;124m\"\u001b[39m)\n\u001b[1;32m      4\u001b[0m \u001b[38;5;28;01mfrom\u001b[39;00m \u001b[38;5;21;01msklearn\u001b[39;00m\u001b[38;5;21;01m.\u001b[39;00m\u001b[38;5;21;01mpreprocessing\u001b[39;00m \u001b[38;5;28;01mimport\u001b[39;00m MinMaxScaler, StandardScaler\n",
      "\u001b[0;31mModuleNotFoundError\u001b[0m: No module named 'seaborn'"
     ]
    }
   ],
   "source": [
    "import matplotlib.pyplot as plt\n",
    "import seaborn as sns\n",
    "print(\"Seaborn imported successfully!\")\n",
    "from sklearn.preprocessing import MinMaxScaler, StandardScaler\n",
    "# Step 1: Handle Missing Values\n",
    "print(df.isnull().sum())\n",
    "# Choose ONE: Drop or Fill\n",
    "df.dropna(inplace=True)  # Drop rows with missing values\n",
    "#df.fillna(df.mean(), inplace=True)  # Fill missing values with the column mean\n",
    "\n",
    "# Step 2: Handle Duplicates\n",
    "print(f\"Number of duplicate rows: {df.duplicated().sum()}\")\n",
    "df.drop_duplicates(inplace=True)\n",
    "\n",
    "# Step 3: Correct Data Types\n",
    "print(df.dtypes)\n",
    "# Example: Replace 'ColumnName' with the actual column name\n",
    "df['ColumnName'] = pd.to_numeric(df['ColumnName'], errors='coerce')\n",
    "df['Diagnosis'] = df['Diagnosis'].astype('category')\n",
    "\n",
    "# Step 4: Handle Outliers\n",
    "sns.boxplot(data=df['RadiusMean'])\n",
    "plt.title(\"Outlier Detection: RadiusMean\")\n",
    "plt.show()\n",
    "\n",
    "# Calculate IQR and filter out outliers\n",
    "Q1 = df['RadiusMean'].quantile(0.25)\n",
    "Q3 = df['RadiusMean'].quantile(0.75)\n",
    "IQR = Q3 - Q1\n",
    "df = df[(df['RadiusMean'] >= Q1 - 1.5 * IQR) & (df['RadiusMean'] <= Q3 + 1.5 * IQR)]\n",
    "\n",
    "# Step 5: Normalize/Standardize (Pick ONE)\n",
    "# Option 1: MinMaxScaler\n",
    "# scaler = MinMaxScaler()\n",
    "# df[['RadiusMean', 'PerimeterMean']] = scaler.fit_transform(df[['RadiusMean', 'PerimeterMean']])\n",
    "\n",
    "# Option 2: StandardScaler\n",
    "scaler = StandardScaler()\n",
    "df[['RadiusMean', 'PerimeterMean']] = scaler.fit_transform(df[['RadiusMean', 'PerimeterMean']])\n",
    "\n",
    "# Step 6: Save Cleaned Data\n",
    "df.to_csv(\"/Users/yannkeita/Desktop/CapstoneProject/BrestCancer_Cleaned.csv\", index=False)\n"
   ]
  },
  {
   "cell_type": "markdown",
   "metadata": {},
   "source": []
  }
 ],
 "metadata": {
  "kernelspec": {
   "display_name": "Python 3",
   "language": "python",
   "name": "python3"
  },
  "language_info": {
   "codemirror_mode": {
    "name": "ipython",
    "version": 3
   },
   "file_extension": ".py",
   "mimetype": "text/x-python",
   "name": "python",
   "nbconvert_exporter": "python",
   "pygments_lexer": "ipython3",
   "version": "3.12.6"
  }
 },
 "nbformat": 4,
 "nbformat_minor": 2
}
